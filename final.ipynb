{
 "cells": [
  {
   "cell_type": "markdown",
   "id": "3a1b7e24-362f-44b7-bcce-26e2f458bf47",
   "metadata": {},
   "source": [
    "# Title"
   ]
  },
  {
   "cell_type": "markdown",
   "id": "035d683c-6fdb-4bdb-b2ed-ce7ee28c05ec",
   "metadata": {},
   "source": [
    "# Introduction\n",
    "In this project, we will analyze data collected by a research group at UBC about how people play video games. Specifically, the research group has set up a Minecraft server to record players' actions and analyze how they navigate the world. However, to ensure they have enough resources to handle the number of players on their server. Our goal is to help with their recruitment efforts, we will be trying to answer which \"kinds\" of players are most likely to contribute a large amount of data to target those players in our recruiting efforts.\n",
    "\n",
    "The dataset that we will be using to answer our question is the players.csv dataset which consists of a total of 196 observations and 9 different variables: \n",
    "1. **experience (chr):** Player's experience level \n",
    "2. **subscribe (lgl):** Indicates if a player is subscribed to PlaiCraft's email updates\n",
    "3. **hashedEmail (chr):** Scrambled email of a player, which can be unscrambled with a key\n",
    "4. **played_hours (dbl):** Total number of hours the player has played\n",
    "5. **name (chr):** Player's name\n",
    "6. **gender (chr):** Player's Gender\n",
    "7. **age (dbl):** Player's Age\n",
    "8. **individualID (lgl):** Individual ID of player\n",
    "9. **organizationName (lgl):** Organization name of player"
   ]
  },
  {
   "cell_type": "markdown",
   "id": "0b016d02-98cf-4791-be88-afba574a8b96",
   "metadata": {},
   "source": [
    "# Methods and Results"
   ]
  },
  {
   "cell_type": "markdown",
   "id": "386a601a-8bdc-4e0e-a314-471694aab75b",
   "metadata": {},
   "source": [
    "The method that we used to address our question using the players.csv dataset is KNN classification. This is appropriate because we are predicting a categorical variable (experience) using two numerical variables (age, played_hours). First, we wrangle and clean our data to prepare it for analysis:"
   ]
  },
  {
   "cell_type": "code",
   "execution_count": 12,
   "id": "6bd65c5c-80bf-4802-a782-ae3272a9075a",
   "metadata": {},
   "outputs": [
    {
     "name": "stderr",
     "output_type": "stream",
     "text": [
      "\u001b[1mRows: \u001b[22m\u001b[34m196\u001b[39m \u001b[1mColumns: \u001b[22m\u001b[34m9\u001b[39m\n",
      "\u001b[36m──\u001b[39m \u001b[1mColumn specification\u001b[22m \u001b[36m────────────────────────────────────────────────────────\u001b[39m\n",
      "\u001b[1mDelimiter:\u001b[22m \",\"\n",
      "\u001b[31mchr\u001b[39m (4): experience, hashedEmail, name, gender\n",
      "\u001b[32mdbl\u001b[39m (2): played_hours, age\n",
      "\u001b[33mlgl\u001b[39m (3): subscribe, individualId, organizationName\n",
      "\n",
      "\u001b[36mℹ\u001b[39m Use `spec()` to retrieve the full column specification for this data.\n",
      "\u001b[36mℹ\u001b[39m Specify the column types or set `show_col_types = FALSE` to quiet this message.\n"
     ]
    }
   ],
   "source": [
    "library(tidyverse)\n",
    "library(RColorBrewer)\n",
    "\n",
    "players_url <- \"https://drive.google.com/uc?export=download&id=1Mw9vW0hjTJwRWx0bDXiSpYsO3gKogaPz\"\n",
    "players <- read_csv(players_url)\n",
    "\n",
    "players_filtered <- players |>\n",
    "    select(experience, played_hours, age) |> #select only relevant columns\n",
    "    filter(played_hours != 0) #filter the number of played hours"
   ]
  },
  {
   "cell_type": "markdown",
   "id": "cdda7217-d9d2-4704-bc65-7f88cea80422",
   "metadata": {},
   "source": [
    "### Dataset Summary\n",
    "The cleaned and wrangled dataset that we will be using for our analysis consists of total of 111 observations and 3 different variables:\n",
    "1. **RESPONSE VARIABLE - experience (chr):** Player's experience level\n",
    "4. **PREDICTOR VARIABLE - played_hours (dbl):** Total number of hours the player has played\n",
    "7. **PREDICTOR VARIABLE - age (dbl):** Player's Age"
   ]
  },
  {
   "cell_type": "code",
   "execution_count": null,
   "id": "c6777821-d650-4645-bd93-56fa58e35060",
   "metadata": {},
   "outputs": [],
   "source": []
  }
 ],
 "metadata": {
  "kernelspec": {
   "display_name": "R",
   "language": "R",
   "name": "ir"
  },
  "language_info": {
   "codemirror_mode": "r",
   "file_extension": ".r",
   "mimetype": "text/x-r-source",
   "name": "R",
   "pygments_lexer": "r",
   "version": "4.3.3"
  }
 },
 "nbformat": 4,
 "nbformat_minor": 5
}
